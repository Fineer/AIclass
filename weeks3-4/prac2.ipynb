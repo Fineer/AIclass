{
 "cells": [
  {
   "cell_type": "markdown",
   "metadata": {},
   "source": [
    "# Introduction to Artificial Intelligence for Non Computing"
   ]
  },
  {
   "cell_type": "markdown",
   "metadata": {},
   "source": [
    "### &emsp;&emsp;&emsp;&emsp;&emsp;&emsp;&emsp;&emsp;&emsp;&emsp;&emsp;&emsp;&emsp;&emsp;&emsp;&emsp;&emsp;&emsp;&emsp;&emsp;***11510082 周玺***"
   ]
  },
  {
   "cell_type": "markdown",
   "metadata": {},
   "source": [
    "## Practical 2 (weeks 3 - 4)"
   ]
  },
  {
   "cell_type": "markdown",
   "metadata": {},
   "source": [
    "## Search Techniques"
   ]
  },
  {
   "cell_type": "markdown",
   "metadata": {},
   "source": [
    "The following links provide additional information about depth first search and breath first search"
   ]
  },
  {
   "cell_type": "markdown",
   "metadata": {},
   "source": [
    "- Depth first search:   link：https://pan.baidu.com/s/1bkLHKKbSBNpfFuKwDyURqw  password：oy76\n",
    "- Breath first search:  link：https://pan.baidu.com/s/176g5q0W3rGbSAM5tZMraeg   password：7mdh"
   ]
  },
  {
   "cell_type": "markdown",
   "metadata": {},
   "source": [
    "#### Theory Questions "
   ]
  },
  {
   "cell_type": "markdown",
   "metadata": {},
   "source": [
    "1\\. What is an algorithm? A sequence of steps such as a recipe or a movie script.\n",
    "\n",
    "As a movie viewer, please write an algorithm for a process to \"see a movie\". Include details of the following for example (add additional information yourself):\n",
    "\t- The start conditions \n",
    "\t-- I want to watch a movie\n",
    "\t- Roles (people/actors involved) \n",
    "    --watcher, ticket seller etc \n",
    "    -Equipment required (\"props\")\n",
    "    --seats, ticket etc\n",
    "    - The scenes \n",
    "    -- scene 1 - buy ticket \n",
    "    -- ??? what happens next\n",
    "    -- scene 3, scene 3 ...\n",
    "    - Results/outcomes\n",
    "    -- ?\n"
   ]
  },
  {
   "cell_type": "markdown",
   "metadata": {},
   "source": [
    "my answer:\n",
    "1. the conditions fo play the movie:\n",
    "  - I want to watch a movie;\n",
    "  - I have enough time to watch the movie;\n",
    "  - I have enough money to buy a movie ticket.\n",
    "2. role:\n",
    "  - I, the seller, the conductor, the projector, the doorman.\n",
    "3. props: tickets, chairs, screens, cameras, money.\n",
    "4. the scene:\n",
    "  - buy ticket: I give money to the seller and he/she give me tickets.\n",
    "  - go to the cinema: I took the ticket, walked into the door, and the doorman check my ticket then let me in.\n",
    "  - watch the movie: I seat down and watch the movie.\n",
    "5. results:\n",
    "  - I feel happy.\n",
    "  - I spent the money.\n",
    "  - the cinema earned money.\n",
    "\n",
    "***"
   ]
  },
  {
   "cell_type": "markdown",
   "metadata": {},
   "source": [
    "2\\. A farmer with his wolf, duck and bag of corn come to the east side of a river they wish to cross. There is a boat at the rivers edge, but of course only the farmer can row. The boat can only hold two things (including the rower) at any one time. If the wolf is ever left alone with the duck, the wolf will eat it. Similarly if the duck is ever left alone with the corn, the duck will eat it. How can the farmer get across the river so that all four arrive safely on the other side? "
   ]
  },
  {
   "cell_type": "markdown",
   "metadata": {},
   "source": [
    "_your answer here..._ \n",
    "1. take the duck to the west, and return back to the east.\n",
    "2. take the wolf to the west, and return back to the east with the dock.\n",
    "3. take the corn to the west, and return back to the east.\n",
    "4. take the duck to the west.\n",
    "5. success\n",
    "***"
   ]
  },
  {
   "cell_type": "markdown",
   "metadata": {},
   "source": [
    " "
   ]
  },
  {
   "cell_type": "markdown",
   "metadata": {},
   "source": [
    "3\\.Explain why we determine our problem goals before we write the problem formulation (including the model and deciding what algorithm or techniques to use - for example search, or other method).\n",
    "\n",
    "See Chapter3.1 (Russel & Norvig)"
   ]
  },
  {
   "cell_type": "markdown",
   "metadata": {},
   "source": [
    "My answer:\n",
    "\n",
    "If we did problem formulation first we would not know what to include and what to leave out.\n",
    "****"
   ]
  },
  {
   "cell_type": "markdown",
   "metadata": {},
   "source": [
    "4\\. This question requires you to perform BFS and DFS on paper.\n",
    "\n",
    "<img src=\"img/p1.png\" width=\"180\" height=\"180\" >\n",
    "\n",
    "1. Simulate (on pencil-and-paper) breadth-first search starting from node A when the goal node is K.\n",
    "2. Simulate (on pencil-and-paper) depth first search starting from node A when the goal node is I.\n"
   ]
  },
  {
   "cell_type": "markdown",
   "metadata": {},
   "source": [
    "1. (A)->(B)->(C, D)->(E, F, G, H)->(I, K)\n",
    "2. (A, B, C, E)->(F)->(D, H, I)->(K)\n",
    "\n",
    "***"
   ]
  },
  {
   "cell_type": "markdown",
   "metadata": {},
   "source": [
    "5\\.Consider a state space where the start state is number 1 and each state  k has two successors: numbers 2k and 2k + 1.\n",
    "- a. Draw the portion of the state space for states 1 to 15.\n",
    "- b. Suppose the goal state is 11. List the order in which nodes will be visited for breadthfirst\n",
    "search, depth-limited search with limit 3, and iterative deepening search.\n",
    "- c. How well would bidirectional search work on this problem? What is the branching\n",
    "factor in each direction of the bidirectional search?\n",
    "- d. Does the answer to (c) suggest a reformulation of the problem that would allow you to\n",
    "solve the problem of getting from state 1 to a given goal state with almost no search?\n",
    "- e. Call the action going from k to 2k Left, and the action going to 2k + 1 Right. Can you\n",
    "find an algorithm that outputs the solution to this problem without any search at all?\n",
    "\n",
    "See textbook Chapter3.15"
   ]
  },
  {
   "cell_type": "markdown",
   "metadata": {},
   "source": [
    "My answer:\n",
    "\n",
    "1. <img src=\"img/a.png\" width=\"400\" height=\"330\">\n",
    "2. BFS: 1 2 3 4 5 6 7 8 9 10 11; Depth-limited: 1 2 4 8 9 5 10 11; iterative deepening search: 1, 1 2 3, 1 2 4 5 3 6 7, 1 2 4 8 9 5 10 11;\n",
    "3. Bidirectional search is very useful, because the only successor of n in the reverse direction is [(n/2)]. This helps focus the search. The branching factor is 2 in the forward direction; 1 in the reverse direction.\n",
    "4. Yes; sstart at the goal, and apply the single reverse successor action until you reach 1.\n",
    "5. The solution can be read off the binary numeral for the goal number. Write the goal number in binary. Since we can only reach positive integers, this binary expansion beings with a 1. From most to least significant bit, skipping the initial 1, go Left to the node 2n if this bit is 0 and go Right to node 2n + 1 if it is 1. For example, suppose the goal is 11, which is 1011 in binary. The solution is therefore Left, Right, Right."
   ]
  },
  {
   "cell_type": "markdown",
   "metadata": {},
   "source": [
    "### Programming Excercises"
   ]
  },
  {
   "cell_type": "markdown",
   "metadata": {},
   "source": [
    "1\\.Write a program to solve a classic ancient Chinese puzzle:  \n",
    " We count 35 heads and 94 legs among the chickens and rabbits in a farm. How many rabbits and how many chickens do we have? "
   ]
  },
  {
   "cell_type": "code",
   "execution_count": 2,
   "metadata": {},
   "outputs": [
    {
     "name": "stdout",
     "output_type": "stream",
     "text": [
      "There are 23 chickens and 12 rabbits.\n"
     ]
    }
   ],
   "source": [
    "head = 35\n",
    "leg = 94\n",
    "if leg % 2 == 0:\n",
    "    x = 2 * head - leg/2\n",
    "    y = head - x\n",
    "    if x > 0 and y > 0:\n",
    "        print('There are %d chickens and %d rabbits.' % (x, y))\n",
    "    else:\n",
    "        print('Can not find the answer.')\n",
    "else:\n",
    "    print('Can not find the answer.')"
   ]
  },
  {
   "cell_type": "markdown",
   "metadata": {},
   "source": [
    "2\\. _Social networking_ Please look at the graph below of social relationships. You have a mango farm, you need to find a mango buyer and sell him your mango that you have grown (just a small farm). To this end, our principle is to use our social network of friends separated by one degree, and then second degree friends (friends of friends), third degree friends (friends of friends of friends).\n",
    "\n",
    "Use the depth first algorithm to search your network until you find a mango seller. \n",
    "\n",
    "We make an assumption that if the person's name ends with m, then it means the person must be the mango seller!\n",
    "\n",
    "\n",
    "<img src=\"img/p3.png\" width=\"500\" height=\"400\" >"
   ]
  },
  {
   "cell_type": "markdown",
   "metadata": {},
   "source": [
    "My answer:\n",
    "\n",
    "you bob anuj peggy alice claire jonny thom"
   ]
  },
  {
   "cell_type": "markdown",
   "metadata": {},
   "source": [
    "3\\. Depth First traverse：Use depth first traversal to traverse all the DLL files on the C disk and output the file names.\n",
    "\n",
    "Update your code to search for a particular filename.\n",
    "\n",
    "What protocol did you use to select the next node to expand on the fringe?"
   ]
  },
  {
   "cell_type": "markdown",
   "metadata": {},
   "source": [
    "My protocol:\n",
    "\n",
    "主要应用了列表模拟栈，先进后出，后进先出原则。 \n",
    "本案例代码：先把根目录压入列表(栈),然后弹出，判断弹出是否是文件夹， \n",
    "因为根目录是文件夹，所以把里面的东西全部加入到一个新列表中， \n",
    "对新列表进行遍历，把是文件夹的都压入列表(栈)。 \n",
    "这样依次执行下去，直到栈为空停止。"
   ]
  },
  {
   "cell_type": "code",
   "execution_count": 8,
   "metadata": {},
   "outputs": [
    {
     "name": "stdout",
     "output_type": "stream",
     "text": [
      "dir: E:\\STUDY\\AI_Class\\lab_course\\AI-for-Non-Computing\n",
      "dir: E:\\STUDY\\AI_Class\\lab_course\\AI-for-Non-Computing\\weeks3-4\n",
      "file: E:\\STUDY\\AI_Class\\lab_course\\AI-for-Non-Computing\\weeks3-4\\prac2.ipynb\n",
      "dir: E:\\STUDY\\AI_Class\\lab_course\\AI-for-Non-Computing\\weeks3-4\\img\n",
      "file: E:\\STUDY\\AI_Class\\lab_course\\AI-for-Non-Computing\\weeks3-4\\img\\p4.png\n",
      "file: E:\\STUDY\\AI_Class\\lab_course\\AI-for-Non-Computing\\weeks3-4\\img\\p3.png\n",
      "file: E:\\STUDY\\AI_Class\\lab_course\\AI-for-Non-Computing\\weeks3-4\\img\\p2.png\n",
      "file: E:\\STUDY\\AI_Class\\lab_course\\AI-for-Non-Computing\\weeks3-4\\img\\p1.png\n",
      "file: E:\\STUDY\\AI_Class\\lab_course\\AI-for-Non-Computing\\weeks3-4\\img\\answer_5.png\n",
      "file: E:\\STUDY\\AI_Class\\lab_course\\AI-for-Non-Computing\\weeks3-4\\img\\a.png\n"
     ]
    }
   ],
   "source": [
    "import os\n",
    " \n",
    "def dfs_myDir(path, looking=None):\n",
    "    stack = []\n",
    "    ret = []\n",
    "    stack.append(path)\n",
    "    while len(stack) > 0:\n",
    "        tmp = stack.pop()\n",
    "        if(os.path.isdir(tmp)):\n",
    "            ret.append(tmp)\n",
    "            for item in os.listdir(tmp):\n",
    "                stack.append(os.path.join(tmp, item))\n",
    "            print(\"dir: \" + tmp)\n",
    "        elif(os.path.isfile(tmp)):\n",
    "            ret.append(tmp)\n",
    "            print(\"file: \" + tmp)\n",
    "            if looking in tmp:\n",
    "                break\n",
    "    return ret\n",
    " \n",
    "d = dfs_myDir(r'E:\\STUDY\\AI_Class\\lab_course\\AI-for-Non-Computing', 'a.png')"
   ]
  },
  {
   "cell_type": "markdown",
   "metadata": {},
   "source": [
    "4\\.\n",
    "Breadth First traverse：Use breadth traversal to traverse all the DLL files on the C disk and output the filename.\n",
    "\n",
    "Update your code to search for a particular filename."
   ]
  },
  {
   "cell_type": "code",
   "execution_count": 10,
   "metadata": {},
   "outputs": [
    {
     "name": "stdout",
     "output_type": "stream",
     "text": [
      "dir: E:\\STUDY\\AI_Class\\lab_course\\AI-for-Non-Computing\n",
      "dir: E:\\STUDY\\AI_Class\\lab_course\\AI-for-Non-Computing\\.git\n",
      "dir: E:\\STUDY\\AI_Class\\lab_course\\AI-for-Non-Computing\\weeks1-2\n",
      "dir: E:\\STUDY\\AI_Class\\lab_course\\AI-for-Non-Computing\\weeks3-4\n",
      "file: E:\\STUDY\\AI_Class\\lab_course\\AI-for-Non-Computing\\.git\\config\n",
      "file: E:\\STUDY\\AI_Class\\lab_course\\AI-for-Non-Computing\\.git\\description\n",
      "file: E:\\STUDY\\AI_Class\\lab_course\\AI-for-Non-Computing\\.git\\HEAD\n",
      "dir: E:\\STUDY\\AI_Class\\lab_course\\AI-for-Non-Computing\\.git\\hooks\n",
      "file: E:\\STUDY\\AI_Class\\lab_course\\AI-for-Non-Computing\\.git\\index\n",
      "dir: E:\\STUDY\\AI_Class\\lab_course\\AI-for-Non-Computing\\.git\\info\n",
      "dir: E:\\STUDY\\AI_Class\\lab_course\\AI-for-Non-Computing\\.git\\logs\n",
      "dir: E:\\STUDY\\AI_Class\\lab_course\\AI-for-Non-Computing\\.git\\objects\n",
      "file: E:\\STUDY\\AI_Class\\lab_course\\AI-for-Non-Computing\\.git\\packed-refs\n",
      "dir: E:\\STUDY\\AI_Class\\lab_course\\AI-for-Non-Computing\\.git\\refs\n",
      "dir: E:\\STUDY\\AI_Class\\lab_course\\AI-for-Non-Computing\\weeks1-2\\.ipynb_checkpoints\n",
      "file: E:\\STUDY\\AI_Class\\lab_course\\AI-for-Non-Computing\\weeks1-2\\introduction_to_ai_software_installation_instruction.pdf\n",
      "file: E:\\STUDY\\AI_Class\\lab_course\\AI-for-Non-Computing\\weeks1-2\\prac1.ipynb\n",
      "file: E:\\STUDY\\AI_Class\\lab_course\\AI-for-Non-Computing\\weeks1-2\\prac1_solution.ipynb\n",
      "dir: E:\\STUDY\\AI_Class\\lab_course\\AI-for-Non-Computing\\weeks3-4\\.ipynb_checkpoints\n",
      "dir: E:\\STUDY\\AI_Class\\lab_course\\AI-for-Non-Computing\\weeks3-4\\img\n",
      "file: E:\\STUDY\\AI_Class\\lab_course\\AI-for-Non-Computing\\weeks3-4\\prac2.ipynb\n",
      "file: E:\\STUDY\\AI_Class\\lab_course\\AI-for-Non-Computing\\.git\\hooks\\applypatch-msg.sample\n",
      "file: E:\\STUDY\\AI_Class\\lab_course\\AI-for-Non-Computing\\.git\\hooks\\commit-msg.sample\n",
      "file: E:\\STUDY\\AI_Class\\lab_course\\AI-for-Non-Computing\\.git\\hooks\\fsmonitor-watchman.sample\n",
      "file: E:\\STUDY\\AI_Class\\lab_course\\AI-for-Non-Computing\\.git\\hooks\\post-update.sample\n",
      "file: E:\\STUDY\\AI_Class\\lab_course\\AI-for-Non-Computing\\.git\\hooks\\pre-applypatch.sample\n",
      "file: E:\\STUDY\\AI_Class\\lab_course\\AI-for-Non-Computing\\.git\\hooks\\pre-commit.sample\n",
      "file: E:\\STUDY\\AI_Class\\lab_course\\AI-for-Non-Computing\\.git\\hooks\\pre-push.sample\n",
      "file: E:\\STUDY\\AI_Class\\lab_course\\AI-for-Non-Computing\\.git\\hooks\\pre-rebase.sample\n",
      "file: E:\\STUDY\\AI_Class\\lab_course\\AI-for-Non-Computing\\.git\\hooks\\pre-receive.sample\n",
      "file: E:\\STUDY\\AI_Class\\lab_course\\AI-for-Non-Computing\\.git\\hooks\\prepare-commit-msg.sample\n",
      "file: E:\\STUDY\\AI_Class\\lab_course\\AI-for-Non-Computing\\.git\\hooks\\update.sample\n",
      "file: E:\\STUDY\\AI_Class\\lab_course\\AI-for-Non-Computing\\.git\\info\\exclude\n",
      "file: E:\\STUDY\\AI_Class\\lab_course\\AI-for-Non-Computing\\.git\\logs\\HEAD\n",
      "dir: E:\\STUDY\\AI_Class\\lab_course\\AI-for-Non-Computing\\.git\\logs\\refs\n",
      "dir: E:\\STUDY\\AI_Class\\lab_course\\AI-for-Non-Computing\\.git\\objects\\01\n",
      "dir: E:\\STUDY\\AI_Class\\lab_course\\AI-for-Non-Computing\\.git\\objects\\0a\n",
      "dir: E:\\STUDY\\AI_Class\\lab_course\\AI-for-Non-Computing\\.git\\objects\\15\n",
      "dir: E:\\STUDY\\AI_Class\\lab_course\\AI-for-Non-Computing\\.git\\objects\\17\n",
      "dir: E:\\STUDY\\AI_Class\\lab_course\\AI-for-Non-Computing\\.git\\objects\\1c\n",
      "dir: E:\\STUDY\\AI_Class\\lab_course\\AI-for-Non-Computing\\.git\\objects\\1f\n",
      "dir: E:\\STUDY\\AI_Class\\lab_course\\AI-for-Non-Computing\\.git\\objects\\30\n",
      "dir: E:\\STUDY\\AI_Class\\lab_course\\AI-for-Non-Computing\\.git\\objects\\33\n",
      "dir: E:\\STUDY\\AI_Class\\lab_course\\AI-for-Non-Computing\\.git\\objects\\3e\n",
      "dir: E:\\STUDY\\AI_Class\\lab_course\\AI-for-Non-Computing\\.git\\objects\\49\n",
      "dir: E:\\STUDY\\AI_Class\\lab_course\\AI-for-Non-Computing\\.git\\objects\\4c\n",
      "dir: E:\\STUDY\\AI_Class\\lab_course\\AI-for-Non-Computing\\.git\\objects\\5f\n",
      "dir: E:\\STUDY\\AI_Class\\lab_course\\AI-for-Non-Computing\\.git\\objects\\64\n",
      "dir: E:\\STUDY\\AI_Class\\lab_course\\AI-for-Non-Computing\\.git\\objects\\67\n",
      "dir: E:\\STUDY\\AI_Class\\lab_course\\AI-for-Non-Computing\\.git\\objects\\69\n",
      "dir: E:\\STUDY\\AI_Class\\lab_course\\AI-for-Non-Computing\\.git\\objects\\71\n",
      "dir: E:\\STUDY\\AI_Class\\lab_course\\AI-for-Non-Computing\\.git\\objects\\78\n",
      "dir: E:\\STUDY\\AI_Class\\lab_course\\AI-for-Non-Computing\\.git\\objects\\7a\n",
      "dir: E:\\STUDY\\AI_Class\\lab_course\\AI-for-Non-Computing\\.git\\objects\\84\n",
      "dir: E:\\STUDY\\AI_Class\\lab_course\\AI-for-Non-Computing\\.git\\objects\\87\n",
      "dir: E:\\STUDY\\AI_Class\\lab_course\\AI-for-Non-Computing\\.git\\objects\\8b\n",
      "dir: E:\\STUDY\\AI_Class\\lab_course\\AI-for-Non-Computing\\.git\\objects\\95\n",
      "dir: E:\\STUDY\\AI_Class\\lab_course\\AI-for-Non-Computing\\.git\\objects\\9c\n",
      "dir: E:\\STUDY\\AI_Class\\lab_course\\AI-for-Non-Computing\\.git\\objects\\a2\n",
      "dir: E:\\STUDY\\AI_Class\\lab_course\\AI-for-Non-Computing\\.git\\objects\\ab\n",
      "dir: E:\\STUDY\\AI_Class\\lab_course\\AI-for-Non-Computing\\.git\\objects\\b0\n",
      "dir: E:\\STUDY\\AI_Class\\lab_course\\AI-for-Non-Computing\\.git\\objects\\bb\n",
      "dir: E:\\STUDY\\AI_Class\\lab_course\\AI-for-Non-Computing\\.git\\objects\\c2\n",
      "dir: E:\\STUDY\\AI_Class\\lab_course\\AI-for-Non-Computing\\.git\\objects\\c7\n",
      "dir: E:\\STUDY\\AI_Class\\lab_course\\AI-for-Non-Computing\\.git\\objects\\ce\n",
      "dir: E:\\STUDY\\AI_Class\\lab_course\\AI-for-Non-Computing\\.git\\objects\\cf\n",
      "dir: E:\\STUDY\\AI_Class\\lab_course\\AI-for-Non-Computing\\.git\\objects\\dd\n",
      "dir: E:\\STUDY\\AI_Class\\lab_course\\AI-for-Non-Computing\\.git\\objects\\ed\n",
      "dir: E:\\STUDY\\AI_Class\\lab_course\\AI-for-Non-Computing\\.git\\objects\\ff\n",
      "dir: E:\\STUDY\\AI_Class\\lab_course\\AI-for-Non-Computing\\.git\\objects\\info\n",
      "dir: E:\\STUDY\\AI_Class\\lab_course\\AI-for-Non-Computing\\.git\\objects\\pack\n",
      "dir: E:\\STUDY\\AI_Class\\lab_course\\AI-for-Non-Computing\\.git\\refs\\heads\n",
      "dir: E:\\STUDY\\AI_Class\\lab_course\\AI-for-Non-Computing\\.git\\refs\\remotes\n",
      "dir: E:\\STUDY\\AI_Class\\lab_course\\AI-for-Non-Computing\\.git\\refs\\tags\n",
      "file: E:\\STUDY\\AI_Class\\lab_course\\AI-for-Non-Computing\\weeks3-4\\.ipynb_checkpoints\\prac2-checkpoint.ipynb\n",
      "file: E:\\STUDY\\AI_Class\\lab_course\\AI-for-Non-Computing\\weeks3-4\\img\\a.png\n"
     ]
    }
   ],
   "source": [
    "import os\n",
    "import queue\n",
    "\n",
    "queue = queue.Queue()\n",
    " \n",
    "def dfs_myDir(path, looking=None):\n",
    "    ret = []\n",
    "    queue.put(path)\n",
    "    while not queue.empty():\n",
    "        tmp = queue.get()\n",
    "        if(os.path.isdir(tmp)):\n",
    "            ret.append(tmp)\n",
    "            for item in os.listdir(tmp):\n",
    "                queue.put(os.path.join(tmp, item))\n",
    "            print(\"dir: \" + tmp)\n",
    "        elif(os.path.isfile(tmp)):\n",
    "            ret.append(tmp)\n",
    "            print(\"file: \" + tmp)\n",
    "            if looking in tmp:\n",
    "                break\n",
    "    return ret\n",
    " \n",
    "d = dfs_myDir(r'E:\\STUDY\\AI_Class\\lab_course\\AI-for-Non-Computing', 'a.png')"
   ]
  },
  {
   "cell_type": "markdown",
   "metadata": {},
   "source": [
    "5\\. Uniform cost search"
   ]
  },
  {
   "cell_type": "markdown",
   "metadata": {},
   "source": [
    "Consider a state space where the start state is 2 and each state k has three successors: numbers 2k, 2k+1, 2k+2. The cost from state k to each respective child is k, ground(k/2), k+2.\n",
    "\n",
    "can you implement a uniform-cost-search algorithm with python. The goal state is number 85."
   ]
  },
  {
   "cell_type": "code",
   "execution_count": 31,
   "metadata": {},
   "outputs": [
    {
     "name": "stdout",
     "output_type": "stream",
     "text": [
      "The graph is:\n",
      "[(2, {4: 2, 5: 1, 6: 4}),\n",
      " (4, {8: 4, 9: 2, 10: 6}),\n",
      " (5, {10: 5, 11: 2, 12: 7}),\n",
      " (6, {12: 6, 13: 3, 14: 8})]\n",
      "   ..........\n",
      "[(95, {190: 95, 191: 47, 192: 97}),\n",
      " (96, {192: 96, 193: 48, 194: 98}),\n",
      " (97, {194: 97, 195: 48, 196: 99}),\n",
      " (98, {196: 98, 197: 49, 198: 100})]\n",
      "******************************\n",
      "the goal is 85\n",
      "looking: 2 5 4 9 11 6 13 8 17 19 10 21 23 27 12 25 14 29 16 33 35 18 37 39 43 20 41 22 45 47 51 24 49 26 53 55 59 28 57 30 61 32 65 67 34 69 71 75 36 73 38 77 79 83 40 81 42 85 \n",
      "***found the goal***\n"
     ]
    }
   ],
   "source": [
    "import queue\n",
    "from math import floor\n",
    "from pprint import pprint\n",
    "import time\n",
    "\n",
    "''' Generate the graph '''\n",
    "graph = {}\n",
    "biggest = 200\n",
    "added = [2]\n",
    "gq = queue.Queue()\n",
    "gq.put(2)\n",
    "key = 2\n",
    "while max(added) < biggest:\n",
    "    key = gq.get()\n",
    "    l = 2 * key\n",
    "    m = 2 * key + 1\n",
    "    r = 2 * key + 2\n",
    "    adjacent = {l: key, m: floor(key/2.0), r: key+2}\n",
    "    graph[key] = adjacent\n",
    "    gq.put(l)\n",
    "    gq.put(m)\n",
    "    gq.put(r)\n",
    "    added.append(l)\n",
    "    added.append(m)\n",
    "    added.append(r)\n",
    "print('The graph is:')\n",
    "pprint(list(graph.items())[:4])\n",
    "print(' '*2, '.'*10)\n",
    "pprint(list(graph.items())[-5:-1])\n",
    "print('*' * 30)\n",
    "\n",
    "''' Uniform cost search '''\n",
    "goal = 85\n",
    "def is_goal(cell):\n",
    "    return cell == goal\n",
    "fq = queue.PriorityQueue()\n",
    "paths = {}\n",
    "start = 2\n",
    "explored = set()\n",
    "explored.add(start)\n",
    "fq.put((0, start))\n",
    "found = False\n",
    "print('the goal is %d' % goal)\n",
    "print('looking:', end=' ')\n",
    "while not fq.empty():\n",
    "    node = fq.get()\n",
    "    cell = node[1]\n",
    "    print(cell, end= ' ')\n",
    "    time.sleep(0.05)\n",
    "    prior = node[0]\n",
    "    \n",
    "    if is_goal(cell):\n",
    "        print()\n",
    "        print('***found the goal***')\n",
    "        found = True\n",
    "        break\n",
    "    else:\n",
    "        if cell in graph.keys(): # 如果还有子节点（即邻接点）\n",
    "            csd = graph[cell]\n",
    "            for c in csd.keys():\n",
    "                if c not in explored:\n",
    "                    explored.add(c)\n",
    "                    fq.put((graph[cell][c], c))\n",
    "        else: #如果没有子节点（因为图没有生成的足够大）\n",
    "            pass\n",
    "if not found:\n",
    "    print('can not find the goal!')"
   ]
  },
  {
   "cell_type": "markdown",
   "metadata": {},
   "source": [
    "6\\.a* question"
   ]
  },
  {
   "cell_type": "markdown",
   "metadata": {},
   "source": [
    "A cute cat stays in the A position, he is hungry. But the food is placed in the B position. Can you help him to find the food? \n",
    "Hint:  The problem isn't easy. It's essential for you to understand the A* algorithm before you solve this problem. Then, you can use some thought of Node in java, when you are in code.\n",
    "\n",
    "<img src=\"img/p4.png\" width=\"500\" height=\"400\" >\n"
   ]
  },
  {
   "cell_type": "code",
   "execution_count": 88,
   "metadata": {},
   "outputs": [
    {
     "name": "stdout",
     "output_type": "stream",
     "text": [
      "orignal map:\n",
      ". . . . . . . \n",
      ". . . X . . . \n",
      ". S . X . G . \n",
      ". . . X . . . \n",
      ". . . . . . . \n",
      "------------------------------------------------------------------------------------------------------------------------\n",
      "looking: (2, 2) (2, 0) (3, 1) (1, 1) (3, 2) (1, 2) (3, 0) (1, 0) (4, 1) (0, 1) (4, 2) (0, 2) (4, 3) (0, 3) (4, 4) (0, 4) (4, 5) (3, 4) (1, 4) (0, 5) (3, 5) \n",
      "find the goal!\n",
      "------------------------------------------------------------------------------------------------------------------------\n",
      "\n",
      "found road as follow:\n",
      ". . . . . . . \n",
      ". . . X . . . \n",
      ". S # X . G . \n",
      ". . # X . # . \n",
      ". . # # # # . \n"
     ]
    }
   ],
   "source": [
    "# 说明：本示例中，猫不允许走对角线。\n",
    "import sys\n",
    "from pprint import pprint\n",
    "\n",
    "map_border = (5, 7)\n",
    "\n",
    "def calc_H(cur_node, goal):\n",
    "    return abs(goal.x-cur_node.x) + abs(goal.y-cur_node.y)\n",
    "\n",
    "class Node:\n",
    "    def __init__(self, parent, x, y):\n",
    "        if x < 0 or x >= map_border[0] or y < 0 or y >= map_border[1]:\n",
    "            raise Exception(\"node position can not beyond the border!\")\n",
    "        self.parent = parent\n",
    "        self.x = x\n",
    "        self.y = y\n",
    "        if parent != None:\n",
    "            self.G = parent.G + 1\n",
    "            self.H = calc_H(self, goal)\n",
    "            self.F = self.G + self.H\n",
    "        else:\n",
    "            self.G = 0\n",
    "            self.H = 0\n",
    "            self.F = 0\n",
    "\n",
    "    def reset_parent(self, parent):\n",
    "        if parent != None:\n",
    "            self.G = parent.G + 1\n",
    "            self.F = self.G + self.H\n",
    "        self.parent = parent\n",
    "    pass\n",
    "\n",
    "\n",
    "map_ = []\n",
    "start = (2, 1)\n",
    "goal = (2, 5)\n",
    "opend = {}\n",
    "closed = {}\n",
    "\n",
    "\n",
    "def min_F_node():\n",
    "    if len(opend) == 0:\n",
    "        raise Exception(\"not exist path!\")\n",
    "    the_min = 9999999999999999\n",
    "    the_k = (start.x, start.y)\n",
    "    for k,v in opend.items():\n",
    "        if the_min > v.F:\n",
    "            the_min = v.F\n",
    "            the_k = k\n",
    "    return opend[the_k]\n",
    "\n",
    "# 把相邻节点加入open list，同时把该node加入到关闭节点中\n",
    "def operate(node):\n",
    "    opend.pop((node.x, node.y))\n",
    "    closed[(node.x, node.y)] = node\n",
    "    adjacents = []\n",
    "    try:\n",
    "        adjacents.append(Node(node , node.x     , node.y - 1))\n",
    "    except:\n",
    "        pass\n",
    "    try:\n",
    "        adjacents.append(Node(node , node.x + 1 , node.y))\n",
    "    except:\n",
    "        pass\n",
    "    try:\n",
    "        adjacents.append(Node(node , node.x     , node.y + 1))\n",
    "    except:\n",
    "        pass\n",
    "    try:\n",
    "        adjacents.append(Node(node , node.x - 1 , node.y))\n",
    "    except:\n",
    "        pass\n",
    "\n",
    "    for adj in adjacents:\n",
    "        if (adj.x,adj.y) == (goal.x, goal.y):\n",
    "            goal.reset_parent(node)\n",
    "            print(\"\\nfind the goal!\")\n",
    "            return True\n",
    "        if (adj.x,adj.y) in closed:\n",
    "            continue\n",
    "\n",
    "        if (adj.x,adj.y) not in opend:\n",
    "            opend[(adj.x,adj.y)] = adj\n",
    "        else:\n",
    "            exist_node = opend[(adj.x, adj.y)]\n",
    "            if node.G + 1 < exist_node.G:\n",
    "                exist_node.reset_parent(node)\n",
    "    return False\n",
    "\n",
    "def aStar():\n",
    "    print('looking:', end=' ')\n",
    "    opend[(start.x, start.y)] = start\n",
    "    pointer = start\n",
    "    while not operate(pointer):\n",
    "        pointer = min_F_node()\n",
    "        print((pointer.x, pointer.y), end=' ')\n",
    "        time.sleep(0.05)\n",
    "    return True\n",
    "\n",
    "def print_map():\n",
    "    for row in map_:\n",
    "        for e in row:\n",
    "            print(e, end=' ')\n",
    "        print()\n",
    "\n",
    "def mark_path(node):\n",
    "    if node.parent == None:\n",
    "        return\n",
    "\n",
    "    map_[node.x][node.y] = '#'\n",
    "    mark_path(node.parent)\n",
    "\n",
    "def preset_map():\n",
    "    global start,goal,map_border\n",
    "    for i in range(map_border[0]):\n",
    "        map_.append([])\n",
    "        for j in range(map_border[1]):\n",
    "            map_[i].append('.')\n",
    "    map_[1][3] = 'X'\n",
    "    map_[2][3] = 'X'\n",
    "    map_[3][3] = 'X'\n",
    "    \n",
    "    map_[start[0]][start[1]] = 'S'\n",
    "    map_[goal[0]][goal[1]] = 'G'\n",
    "\n",
    "    row_index = 0\n",
    "    for row in map_:\n",
    "        col_index = 0\n",
    "        for n in row:\n",
    "            if n == 'X':\n",
    "                block_node = Node(None, row_index, col_index)\n",
    "                closed[(block_node.x, block_node.y)] = block_node\n",
    "            elif n == 'S':\n",
    "                start = Node(None, row_index, col_index)\n",
    "            elif n == 'G':\n",
    "                goal = Node(None, row_index, col_index)\n",
    "            col_index = col_index + 1\n",
    "        row_index = row_index + 1\n",
    "\n",
    "if __name__=='__main__':\n",
    "    preset_map()\n",
    "    print(\"orignal map:\")\n",
    "    print_map()\n",
    "    print('-'*120)\n",
    "    \n",
    "    find = aStar()\n",
    "    print('-'*120)\n",
    "    if find:\n",
    "        mark_path(goal.parent)\n",
    "        print(\"\\nfound road as follow:\")\n",
    "        print_map()"
   ]
  }
 ],
 "metadata": {
  "kernelspec": {
   "display_name": "Python 3",
   "language": "python",
   "name": "python3"
  },
  "language_info": {
   "codemirror_mode": {
    "name": "ipython",
    "version": 3
   },
   "file_extension": ".py",
   "mimetype": "text/x-python",
   "name": "python",
   "nbconvert_exporter": "python",
   "pygments_lexer": "ipython3",
   "version": "3.6.5"
  }
 },
 "nbformat": 4,
 "nbformat_minor": 2
}
