{
 "cells": [
  {
   "cell_type": "markdown",
   "metadata": {},
   "source": [
    "## &emsp;&emsp;&emsp;&emsp;&emsp;&emsp;&emsp;&emsp;&emsp;&emsp;&emsp;&emsp;&emsp;&emsp;&emsp;&emsp;11510082 周玺"
   ]
  },
  {
   "cell_type": "markdown",
   "metadata": {},
   "source": [
    "# Introduction to Artificial Intelligence for Non Computing"
   ]
  },
  {
   "cell_type": "markdown",
   "metadata": {},
   "source": [
    "## Practical 3 (weeks 5 - 6)"
   ]
  },
  {
   "cell_type": "markdown",
   "metadata": {},
   "source": [
    "The following links provide additional information about data analysis , machine learning and Numpy"
   ]
  },
  {
   "cell_type": "markdown",
   "metadata": {},
   "source": [
    "Python data analysis: https://www.imooc.com/learn/843\n",
    "machine learning: https://www.imooc.com/learn/717\n",
    "Numpy :https://www.imooc.com/learn/943"
   ]
  },
  {
   "cell_type": "markdown",
   "metadata": {},
   "source": [
    "#### Theory Questions"
   ]
  },
  {
   "cell_type": "markdown",
   "metadata": {},
   "source": [
    "1\\.Which of the following are true and which are false? Give brief explanations.\n",
    "- a. In a fully observable, turn-taking, zero-sum game between two perfectly rational players,it does not help the first player to know what strategy the second player is using—that is, what move the second player will make, given the first player's move.\n",
    "- b. In a partially observable, turn-taking, zero-sum game between two perfectly rational players, it does not help the first player to know what move the second player will make, given the first player's move.\n",
    "- c. A perfectly rational backgammon agent never loses.\n",
    "\n",
    "See textbook Chapter6 24.6"
   ]
  },
  {
   "cell_type": "markdown",
   "metadata": {},
   "source": [
    "**My answer:**\n",
    "\n",
    "a:It is true. The second one is predictable.\n",
    "\n",
    "b:False. The move of the second player, will give the first player additional information about the state.\n",
    "\n",
    "c:False. It is the chance to win for a player in Backgammon.\n",
    "***"
   ]
  },
  {
   "cell_type": "markdown",
   "metadata": {},
   "source": [
    "2\\.Define in your own words the terms constraint, backtracking search, arc consistency,backjumping, min-conflicts, and cycle cutset.\n",
    "\n",
    "See textbook Chapter6 6.16"
   ]
  },
  {
   "cell_type": "markdown",
   "metadata": {},
   "source": [
    "**My answer:**\n",
    "\n",
    "- constraint: 每个变量都有自己的赋值同时满足所有关于变量的约束。\n",
    "-  backtracking search: 回溯搜索是一种特殊的DFS，它每次为一个变量选择一个赋值，当没有合法的值可以赋给某变量时就回溯。\n",
    "- arc consistency: 在CSP中，某变量值域中的所有取值满足该变量的所有二元约束，就是arc consistency。\n",
    "- backjumping: 它是一个让backtracking搜索更高效的方式，当到达一个无解状态时，会后退多个层级。\n",
    "- Min-conflicts: 当给定一个变量进行修改时，选择与其他变量冲突最少的值。\n",
    "- cycle cutset: cycle cutset 是一组变量，当从约束图中删除时，这些变量使它是非循环的。\n",
    "***"
   ]
  },
  {
   "cell_type": "markdown",
   "metadata": {},
   "source": [
    "3\\.Explain why it is a good heuristic to choose the variable that is most constrained but the value that is least constraining in a CSP search.\n",
    "\n",
    "See textbook Chapter6 6.9"
   ]
  },
  {
   "cell_type": "markdown",
   "metadata": {},
   "source": [
    "**My answer:**\n",
    "\n",
    "It is good to choose the most constrained variables, which are likely to cause a failure, because it is more efficient to fail as early as possible.\n",
    "\n",
    "And it is good to choose the least constraining value,because it allows the most chances for future assignments to avoid conflict.\n",
    "***"
   ]
  },
  {
   "cell_type": "markdown",
   "metadata": {},
   "source": [
    "4\\.Consider the following procedure for choosing moves in games with chance nodes: \n",
    "- 1、Generate some dice-roll sequences (say, 50) down to a suitable depth (say, 8).\n",
    "- 2、With known dice rolls, the game tree becomes deterministic. For each dice-roll sequence,solve the resulting deterministic game tree using alpha-beta.\n",
    "- 3、Use the results to estimate the value of each move and to choose the best.Will this procedure work well? Why (or why not)?\n",
    "\n",
    "See textbook Chapter5 5.19"
   ]
  },
  {
   "cell_type": "markdown",
   "metadata": {},
   "source": [
    "**My answer:**\n",
    "\n",
    "这个程序会给出错误的结果。在deterministic tree中，每个玩家所做的选择都是基于对未来骰子掷骰的充分了解，而与没有这些了解的情况下所做的动作没有必然的关系。\n",
    "***"
   ]
  },
  {
   "cell_type": "markdown",
   "metadata": {},
   "source": [
    "5\\. Now,please consider this game:  there are three plates A, B and C, each plate has three bills. A puts 1, 20, 50; B puts 5, 10, 100; C puts 1, 5, 20. All units are \"Yuan\". There are two persons A and B, and two of them can check out three plates and banknotes .（ A is ourself, The other is B）\n",
    "The game is divided into three steps: \n",
    "- 1、A select a plate from three plate.\n",
    "- 2、B take out two banknotes from A selected plate,and give the  banknotes to A.  \n",
    "- 3、A take one of the two banknotes, and take it away.among,A want to get the max banknotes, B want to let A to get the min.\n",
    "\n",
    "Try to understand the minimax algorithm，you can click the link:https://blog.csdn.net/tangchenyi/article/details/22920031"
   ]
  },
  {
   "cell_type": "markdown",
   "metadata": {},
   "source": [
    "**My answer:**\n",
    "\n",
    "1. First we choose the maximum value, so we get to value 20 .\n",
    "\n",
    "2. The other side will choose the minimized value.We get to value 1.20\n",
    "\n",
    "3. Then we choose the maximum value. We get to value 20.\n",
    "\n",
    "4. The othere side will choose the minimized value, so we get to value 1.\n",
    "***"
   ]
  },
  {
   "cell_type": "markdown",
   "metadata": {},
   "source": [
    "### Programming Excercises"
   ]
  },
  {
   "cell_type": "markdown",
   "metadata": {},
   "source": [
    "1\\. Guess number(Single number): please generate a randomly number  with the function (random), then ask someone to guess the number,I think we should give the corresponding hint, otherwise it will be very difficult to guess the number.the game will be over untill you get the right number."
   ]
  },
  {
   "cell_type": "code",
   "execution_count": 18,
   "metadata": {},
   "outputs": [
    {
     "name": "stdout",
     "output_type": "stream",
     "text": [
      "Hello, Mr. Wang, welcome to the guessing number play. I have selected a number between 0 and 100.\n",
      "You can now enter a integer here:50\n",
      "Well, it is to small, please reinput:75\n",
      "Well, it is to small, please reinput:87\n",
      "Well, it is too big, please reinput:80\n",
      "Well, it is to small, please reinput:83\n",
      "Well, it is to small, please reinput:84\n",
      "Well, it is to small, please reinput:85\n",
      "You are great! The number is exactly 85\n"
     ]
    }
   ],
   "source": [
    "## write your answer here!\n",
    "import random\n",
    "\n",
    "number = random.randint(0, 100)\n",
    "\n",
    "entered = int(input('Hello, Mr. Wang, welcome to the guessing number play. I have selected a number between 0 and 100.\\nYou can now enter a integer here:'))\n",
    "\n",
    "\n",
    "while entered != number:\n",
    "    if entered > number:\n",
    "        entered = int(input('Well, it is too big, please reinput:'))\n",
    "    else:\n",
    "        entered = int(input('Well, it is to small, please reinput:'))\n",
    "print('You are great! The number is exactly {}'.format(number))\n"
   ]
  },
  {
   "cell_type": "markdown",
   "metadata": {},
   "source": [
    "2\\.if you had understand the guess single number games,Congratulates,next is the guess three number games,Maybe you can do it well.But this is a different way of thinking. \n",
    "first : we need generate three numbers,there are most ten times chances give  you to guess the number,of course,we also give you some cue.\n",
    "\n",
    "- 'When I say:-->It means:\n",
    "- 'error--> The 3 numbers are not in the mystical numbers.'\n",
    "- 'Only the number is correct --> the number is right , but the position is not right.'\n",
    "- 'Absolutely right--> numbers is right and the position also right.'\n",
    "\n",
    "Maybe it's better for you to understand the rule well through see the picture.\n",
    "<div style=\"float:left;\" ><img src=\"img/p1.png\" width=\"400\" height=\"300\" >"
   ]
  },
  {
   "cell_type": "code",
   "execution_count": 4,
   "metadata": {},
   "outputs": [
    {
     "name": "stdout",
     "output_type": "stream",
     "text": [
      "there are  3 numbers，please Guess what it is.\n",
      "The clue I gave is:\n",
      "When I say:                     It means:\n",
      "error                           The 3 numbers are not in the mystical numbers.\n",
      "Only the number is correct      the number is right , but the position is not right..\n",
      "Absolutely right                numbers is right and the position also right.\n",
      "there are  3 numbers，You have  10  chance to guess it.\n",
      "this is the 1 time: 123\n",
      "error; error; Only the number is correct; \n",
      "this is the 2 time: 453\n",
      "error; Only the number is correct; Only the number is correct; \n",
      "this is the 3 time: 536\n",
      "Only the number is correct; Only the number is correct; error; \n",
      "this is the 4 time: 537\n",
      "Only the number is correct; Only the number is correct; error; \n",
      "this is the 5 time: 358\n",
      "Absolutely right; Only the number is correct; error; \n",
      "this is the 6 time: 395\n",
      "Absolutely right; error; Absolutely right; \n",
      "this is the 7 time: 305\n",
      "Absolutely right; Absolutely right; Absolutely right; \n",
      "Congratulations!\n"
     ]
    }
   ],
   "source": [
    "import random\n",
    "\n",
    "# digit_num = random.randint(2, 4)\n",
    "digit_num = 3\n",
    "true_num = ''\n",
    "for i in range(digit_num):\n",
    "    true_num += str(random.randint(0,10))\n",
    "    pass\n",
    "max_guess = random.randint(5, 16)\n",
    "\n",
    "print('there are  %s numbers，please Guess what it is.' % (digit_num))\n",
    "print('The clue I gave is:')\n",
    "print('When I say:                     It means:')\n",
    "print('error                           The 3 numbers are not in the mystical numbers.')\n",
    "print('Only the number is correct      the number is right , but the position is not right..')\n",
    "print('Absolutely right                numbers is right and the position also right.')\n",
    "\n",
    "print('there are  %s numbers，You have  %s  chance to guess it.' % (digit_num, max_guess))\n",
    "\n",
    "itime = 1\n",
    "while itime < 11:\n",
    "    entered = str(input('this is the {} time: '.format(itime)))\n",
    "    if len(entered) != digit_num:\n",
    "        print('please enter %d digits.' % (digit_num))\n",
    "        continue\n",
    "    for i in range(digit_num):\n",
    "        if entered[i] == true_num[i]:\n",
    "            print('Absolutely right;', end=' ')\n",
    "        elif entered[i] in true_num:\n",
    "            print('Only the number is correct;', end=' ')\n",
    "        else:\n",
    "            print('error;', end=' ')\n",
    "    print()\n",
    "    if str(entered) == str(true_num):\n",
    "        print('Congratulations!')\n",
    "        break\n",
    "    itime += 1"
   ]
  },
  {
   "cell_type": "markdown",
   "metadata": {},
   "source": [
    "3\\.please try using Python's Tkinter to make a visual interface（GUI）.if you don't know anything.Maybe you can refer to the below interface.and implement it by code.\n",
    "\n",
    "<div style=\"float:left;\" ><img src=\"img/p2.png\" width=\"200\" height=\"200\" >"
   ]
  },
  {
   "cell_type": "code",
   "execution_count": 39,
   "metadata": {},
   "outputs": [],
   "source": [
    "# -*- coding: utf-8 -*-\n",
    "\n",
    "import socket\n",
    "from tkinter import *\n",
    "\n",
    "class Win:\n",
    "    def __init__(self):\n",
    "        self.t = Tk()\n",
    "        self.t.title(\"Chat room\")\n",
    "\n",
    "        # sending message\n",
    "        def send_msg():\n",
    "            strMsg = 'Me: ' + time.strftime(\"%Y-%m-%d %H:%M:%S\",time.localtime()) + '\\n '\n",
    "            self.chat_win.insert(END, strMsg, 'greencolor')                 # insert the info into chatting window\n",
    "            msg = self.input_entry.get('0.0', END)\n",
    "            msg = msg[:-1]\n",
    "            msg += '\\n\\n'\n",
    "            self.chat_win.insert(END, msg)                                  # insert the message into chatting window\n",
    "            self.input_entry.delete('0.0', END)\n",
    "            pass\n",
    "\n",
    "        # create frame to contain other elements\n",
    "        frame_top = Frame(width=30, height=320, bg='white')                      # frame on the top\n",
    "        frame_bottom = Frame(width=30, height=10, bg='white')                       # frame on the bottom\n",
    "\n",
    "        # create elements(two texts, one scrollbar and one button)\n",
    "        self.chat_win = Text(frame_top,width=90,bg='#F0F8FF')                 # Text for chatting window\n",
    "        sb = Scrollbar(frame_top,bg='#DCDCDC')\n",
    "        self.input_entry = Text(frame_bottom,height=6, bg='#F8F8FF');                   # Text for inputting entry\n",
    "        self.btn = Button(frame_bottom, text='发 送', width=11, height=4, command=send_msg, bg='#FFE4E1')\n",
    "\n",
    "        self.chat_win.tag_config('greencolor', foreground='#E6CFE6')\n",
    "        self.chat_win.configure(yscrollcommand=sb.set)\n",
    "        sb.configure(command=self.chat_win.yview)\n",
    "\n",
    "        frame_top.grid(row=0, column=0)                                          # grid flow of the two frames\n",
    "        frame_bottom.grid(row=1, column=0)\n",
    "        self.chat_win.pack(side=LEFT, fill=BOTH)                     # ordinary flow of chatting window and scrollbar.\n",
    "        sb.pack(side=RIGHT, fill=Y)\n",
    "        self.input_entry.pack(side=LEFT)                                  # ordinary flow of inputting entry and button.\n",
    "        self.btn.pack(side=RIGHT)\n",
    "\n",
    "\n",
    "        self.t.mainloop()\n",
    "        pass\n",
    "    pass\n",
    "\n",
    "\n",
    "if __name__ == \"__main__\":\n",
    "    win = Win()\n"
   ]
  },
  {
   "cell_type": "markdown",
   "metadata": {},
   "source": [
    "**Test Chat Window:**\n",
    "<div style=\"float:left;\" ><img src=\"img2/chatwin.png\" width=\"600\" height=\"400\" center=\"left\"></div>"
   ]
  },
  {
   "cell_type": "markdown",
   "metadata": {},
   "source": [
    "4\\.Through the initial trial of Tkinter,    please write a simple calculator.\n",
    "\n",
    "<div style=\"float:left;\" ><img src=\"img/p3.png\" width=\"180\" height=\"200\" center=\"left\"></div>\n",
    "<div style=\"float:left;\" ><img src=\"img/p4.png\" width=\"180\" height=\"200\" center=\"right\" ></div>"
   ]
  },
  {
   "cell_type": "code",
   "execution_count": 48,
   "metadata": {},
   "outputs": [
    {
     "ename": "TclError",
     "evalue": "can't invoke \"label\" command: application has been destroyed",
     "output_type": "error",
     "traceback": [
      "\u001b[1;31m---------------------------------------------------------------------------\u001b[0m",
      "\u001b[1;31mTclError\u001b[0m                                  Traceback (most recent call last)",
      "\u001b[1;32m<ipython-input-48-efa7d8afb2ec>\u001b[0m in \u001b[0;36m<module>\u001b[1;34m()\u001b[0m\n\u001b[0;32m     66\u001b[0m \u001b[1;33m\u001b[0m\u001b[0m\n\u001b[0;32m     67\u001b[0m \u001b[1;32mif\u001b[0m \u001b[0m__name__\u001b[0m \u001b[1;33m==\u001b[0m \u001b[1;34m\"__main__\"\u001b[0m\u001b[1;33m:\u001b[0m\u001b[1;33m\u001b[0m\u001b[0m\n\u001b[1;32m---> 68\u001b[1;33m     \u001b[0mcal\u001b[0m \u001b[1;33m=\u001b[0m \u001b[0mCalculator\u001b[0m\u001b[1;33m(\u001b[0m\u001b[1;33m)\u001b[0m\u001b[1;33m\u001b[0m\u001b[0m\n\u001b[0m",
      "\u001b[1;32m<ipython-input-48-efa7d8afb2ec>\u001b[0m in \u001b[0;36m__init__\u001b[1;34m(self)\u001b[0m\n\u001b[0;32m     14\u001b[0m \u001b[1;33m\u001b[0m\u001b[0m\n\u001b[0;32m     15\u001b[0m         \u001b[0mself\u001b[0m\u001b[1;33m.\u001b[0m\u001b[0mnum\u001b[0m \u001b[1;33m=\u001b[0m \u001b[1;34m''\u001b[0m\u001b[1;33m\u001b[0m\u001b[0m\n\u001b[1;32m---> 16\u001b[1;33m         \u001b[0mself\u001b[0m\u001b[1;33m.\u001b[0m\u001b[0mtop\u001b[0m \u001b[1;33m=\u001b[0m \u001b[0mLabel\u001b[0m\u001b[1;33m(\u001b[0m\u001b[0mframe_show\u001b[0m\u001b[1;33m,\u001b[0m \u001b[0mtext\u001b[0m\u001b[1;33m=\u001b[0m\u001b[0mself\u001b[0m\u001b[1;33m.\u001b[0m\u001b[0mnum\u001b[0m\u001b[1;33m,\u001b[0m \u001b[0mbg\u001b[0m\u001b[1;33m=\u001b[0m\u001b[1;34m'white'\u001b[0m\u001b[1;33m,\u001b[0m \u001b[0mwidth\u001b[0m\u001b[1;33m=\u001b[0m\u001b[1;36m25\u001b[0m\u001b[1;33m,\u001b[0m \u001b[0mheight\u001b[0m\u001b[1;33m=\u001b[0m\u001b[1;36m1\u001b[0m\u001b[1;33m,\u001b[0m \u001b[0mfont\u001b[0m\u001b[1;33m=\u001b[0m\u001b[1;33m(\u001b[0m\u001b[1;34m\"黑体\"\u001b[0m\u001b[1;33m,\u001b[0m \u001b[1;36m50\u001b[0m\u001b[1;33m,\u001b[0m \u001b[1;34m'bold'\u001b[0m\u001b[1;33m)\u001b[0m\u001b[1;33m,\u001b[0m \u001b[0mjustify\u001b[0m\u001b[1;33m=\u001b[0m\u001b[0mLEFT\u001b[0m\u001b[1;33m,\u001b[0m \u001b[0manchor\u001b[0m\u001b[1;33m=\u001b[0m\u001b[1;34m'e'\u001b[0m\u001b[1;33m)\u001b[0m\u001b[1;33m\u001b[0m\u001b[0m\n\u001b[0m\u001b[0;32m     17\u001b[0m         \u001b[0mself\u001b[0m\u001b[1;33m.\u001b[0m\u001b[0mtop\u001b[0m\u001b[1;33m.\u001b[0m\u001b[0mpack\u001b[0m\u001b[1;33m(\u001b[0m\u001b[0mpadx\u001b[0m\u001b[1;33m=\u001b[0m\u001b[1;36m5\u001b[0m\u001b[1;33m,\u001b[0m \u001b[0mpady\u001b[0m\u001b[1;33m=\u001b[0m\u001b[1;36m10\u001b[0m\u001b[1;33m)\u001b[0m\u001b[1;33m\u001b[0m\u001b[0m\n\u001b[0;32m     18\u001b[0m \u001b[1;33m\u001b[0m\u001b[0m\n",
      "\u001b[1;32mD:\\ProgramData\\Anaconda3\\lib\\tkinter\\__init__.py\u001b[0m in \u001b[0;36m__init__\u001b[1;34m(self, master, cnf, **kw)\u001b[0m\n\u001b[0;32m   2761\u001b[0m \u001b[1;33m\u001b[0m\u001b[0m\n\u001b[0;32m   2762\u001b[0m         \"\"\"\n\u001b[1;32m-> 2763\u001b[1;33m         \u001b[0mWidget\u001b[0m\u001b[1;33m.\u001b[0m\u001b[0m__init__\u001b[0m\u001b[1;33m(\u001b[0m\u001b[0mself\u001b[0m\u001b[1;33m,\u001b[0m \u001b[0mmaster\u001b[0m\u001b[1;33m,\u001b[0m \u001b[1;34m'label'\u001b[0m\u001b[1;33m,\u001b[0m \u001b[0mcnf\u001b[0m\u001b[1;33m,\u001b[0m \u001b[0mkw\u001b[0m\u001b[1;33m)\u001b[0m\u001b[1;33m\u001b[0m\u001b[0m\n\u001b[0m\u001b[0;32m   2764\u001b[0m \u001b[1;33m\u001b[0m\u001b[0m\n\u001b[0;32m   2765\u001b[0m \u001b[1;32mclass\u001b[0m \u001b[0mListbox\u001b[0m\u001b[1;33m(\u001b[0m\u001b[0mWidget\u001b[0m\u001b[1;33m,\u001b[0m \u001b[0mXView\u001b[0m\u001b[1;33m,\u001b[0m \u001b[0mYView\u001b[0m\u001b[1;33m)\u001b[0m\u001b[1;33m:\u001b[0m\u001b[1;33m\u001b[0m\u001b[0m\n",
      "\u001b[1;32mD:\\ProgramData\\Anaconda3\\lib\\tkinter\\__init__.py\u001b[0m in \u001b[0;36m__init__\u001b[1;34m(self, master, widgetName, cnf, kw, extra)\u001b[0m\n\u001b[0;32m   2294\u001b[0m             \u001b[1;32mdel\u001b[0m \u001b[0mcnf\u001b[0m\u001b[1;33m[\u001b[0m\u001b[0mk\u001b[0m\u001b[1;33m]\u001b[0m\u001b[1;33m\u001b[0m\u001b[0m\n\u001b[0;32m   2295\u001b[0m         self.tk.call(\n\u001b[1;32m-> 2296\u001b[1;33m             (widgetName, self._w) + extra + self._options(cnf))\n\u001b[0m\u001b[0;32m   2297\u001b[0m         \u001b[1;32mfor\u001b[0m \u001b[0mk\u001b[0m\u001b[1;33m,\u001b[0m \u001b[0mv\u001b[0m \u001b[1;32min\u001b[0m \u001b[0mclasses\u001b[0m\u001b[1;33m:\u001b[0m\u001b[1;33m\u001b[0m\u001b[0m\n\u001b[0;32m   2298\u001b[0m             \u001b[0mk\u001b[0m\u001b[1;33m.\u001b[0m\u001b[0mconfigure\u001b[0m\u001b[1;33m(\u001b[0m\u001b[0mself\u001b[0m\u001b[1;33m,\u001b[0m \u001b[0mv\u001b[0m\u001b[1;33m)\u001b[0m\u001b[1;33m\u001b[0m\u001b[0m\n",
      "\u001b[1;31mTclError\u001b[0m: can't invoke \"label\" command: application has been destroyed"
     ]
    }
   ],
   "source": [
    "## write your answer here!\n",
    "from tkinter import *\n",
    "\n",
    "class Calculator(object):\n",
    "    def __init__(self):\n",
    "        self.win = Tk()\n",
    "        self.win.geometry('400x500')\n",
    "        self.win.title('My calculator')\n",
    "        self.frame = Frame(width=300, height=150, bg='#F8F8FF')\n",
    "        self.frame.pack()\n",
    "        \n",
    "        self.show = StringVar()\n",
    "        self.show.set('0')\n",
    "        \n",
    "        self.num = ''\n",
    "        self.top = Label(frame_show, text=self.num, bg='white', width=25, height=1, font=(\"黑体\", 50, 'bold'), justify=LEFT, anchor='e')\n",
    "        self.top.pack(padx=5, pady=10)\n",
    "        \n",
    "        self.bord = Frame( width=400, height=350, bg='#CCCCCC' )\n",
    "        \n",
    "        def delete():\n",
    "            self.num = self.num[:-1]\n",
    "            self.top['text'] = self.num\n",
    "            \n",
    "        def clear():\n",
    "            self.num = ''\n",
    "            self.top['text'] = ''\n",
    "        \n",
    "        def operation(op):\n",
    "            global i\n",
    "            i += op\n",
    "            self.show['text'] = i\n",
    "\n",
    "        def equal():\n",
    "            global i\n",
    "            try:\n",
    "                if i != '':\n",
    "                    i = '%s'%eval(i)\n",
    "                    self.show['text'] = i\n",
    "            except:\n",
    "                self.show['text'] = 'error'\n",
    "        \n",
    "        self.b_del = Button(frame, text=\"←\", width=10, height=2, command=self.delete).grid(row=0, column=2)\n",
    "        self.b_c = Button(frame, text=\"C\", width=10, height=2, command=clear ).grid( row=0, column=0 )\n",
    "        self.b_ce = Button(frame, text=\"CE\", width=10, height=2, command=clear ).grid( row=0, column=3 )\n",
    "        self.b_1 = Button(frame, text='1', width=10, height=4, command=lambda :operation('1')).grid(row=1, column=0)\n",
    "        self.b_2 = Button(frame, text='2', width=10, height=4, command=lambda :operation('2')).grid(row=1, column=1)\n",
    "        self.b_3 = Button(frame, text='3', width=10, height=4, command=lambda :operation('3')).grid(row=1, column=2)\n",
    "        self.b_4 = Button(frame, text='4', width=10, height=4, command=lambda :operation('4')).grid(row=1, column=3)\n",
    "        self.b_5 = Button(frame, text='5', width=10, height=4, command=lambda :operation('5')).grid(row=2, column=0)\n",
    "        self.b_6 = Button(frame, text='6', width=10, height=4, command=lambda :operation('6')).grid(row=2, column=1)\n",
    "        self.b_7 = Button(frame, text='7', width=10, height=4, command=lambda :operation('7')).grid(row=2, column=2)\n",
    "        self.b_8 = Button(frame, text='8', width=10, height=4, command=lambda :operation('8')).grid(row=2, column=3)\n",
    "        self.b_9 = Button(frame, text='9', width=10, height=4, command=lambda :operation('9')).grid(row=3, column=1)\n",
    "        self.b_0 = Button(frame, text='0', width=10, height=4, command=lambda :operation('0')).grid(row=3, column=2)\n",
    "\n",
    "        self.b_deng = Button(frame, text='=', width=10, height=4, command=equal).grid(row=3, column=3)\n",
    "        self.b_dian = Button(frame, text='.', width=10, height=4, command=lambda :operation('.')).grid(row=3, column=0)\n",
    "\n",
    "        self.b_jia = Button(frame, text='+', width=10, height=2, command=lambda :operation('+')).grid(row=4, column=0)\n",
    "        self.b_jian = Button(frame, text='-', width=10, height=2, command=lambda :operation('-')).grid(row=4, column=1)\n",
    "        self.b_cheng = Button(frame, text='*', width=10, height=2, command=lambda :operation('*')).grid(row=4, column=2)\n",
    "        self.b_chu = Button(frame, text='/', width=10, height=2, command=lambda :operation('/')).grid(row=4, column=3)\n",
    "        self.frame.pack(padx=10, pady=10)\n",
    "        self.win.mainloop()\n",
    "\n",
    "if __name__ == \"__main__\":\n",
    "    cal = Calculator()"
   ]
  },
  {
   "cell_type": "markdown",
   "metadata": {},
   "source": [
    "5\\.Ball game:Python's pinball game, which can realize the game function of the keyboard control bottom baffle moving collision ball similar to table tennis game. \n",
    "\n",
    "<div style=\"float:left;\" ><img src=\"img/p5.png\" width=\"200\" height=\"200\" center=\"left\"></div>\n",
    "<div style=\"float:left;\" ><img src=\"img/p6.png\" width=\"200\" height=\"200\" center=\"right\" ></div>\n"
   ]
  },
  {
   "cell_type": "markdown",
   "metadata": {},
   "source": [
    "this is a step:how to install the matplotlib,you can reference this link:https://blog.csdn.net/not_give_up_/article/details/79058272\n",
    "1. Ball Class\n",
    "    draw is responsible for moving Ball\n",
    "    Collision detection, bounce, Ball detection of Paddle \n",
    "2. Paddle Class\n",
    "    draw is responsible for moving Paddle\n",
    "    Collision detection to determine whether or not to continue ,Monitor keyboard events\n",
    "3. main cycle\n",
    "    Drawing the Ball and Paddle"
   ]
  },
  {
   "cell_type": "code",
   "execution_count": null,
   "metadata": {},
   "outputs": [],
   "source": [
    "from tkinter import *\n",
    "import matplotlib\n",
    "matplotlib.use('Agg')\n",
    "import random\n",
    "import time\n",
    "class Ball:\n",
    "    def __init__(self, canvas, paddle, color):\n",
    "        self.canvas = canvas\n",
    "        self.paddle = paddle\n",
    "        self.id = canvas.create_oval(10, 10, 25, 25, fill=color)\n",
    "        self.canvas.move(self.id, 245, 100)\n",
    "        startx = [-3, -2, -1, 1, 2, 3]\n",
    "        random.shuffle(startx)\n",
    "        self.x = startx[0]\n",
    "        self.y = -3\n",
    "        self.canvas_height = self.canvas.winfo_height()\n",
    "        self.canvas_width = self.canvas.winfo_width()\n",
    "        self.hit_bottom = False\n",
    "    def draw(self):\n",
    "        self.canvas.move(self.id, self.x, self.y)\n",
    "        pos = self.canvas.coords(self.id)#top-left bottom-right\n",
    "        if (pos[1] <= 0 or self.hit_paddle(pos) == True):\n",
    "            self.y = -self.y\n",
    "        if (pos[0] <= 0 or pos[2] >= self.canvas_width):\n",
    "            self.x = -self.x\n",
    "        if (pos[3] >= self.canvas_height):\n",
    "            self.hit_bottom = True\n",
    "    def hit_paddle(self, pos):\n",
    "        paddle_pos = self.canvas.coords(self.paddle.id)\n",
    "        if (pos[2] >= paddle_pos[0] and pos[0] <= paddle_pos[2]):\n",
    "            if (pos[3] >= paddle_pos[1] and pos[3] <= paddle_pos[3]):\n",
    "                return True\n",
    "        return False\n",
    "class Paddle:\n",
    "    def __init__(self, canvas, color):\n",
    "        self.canvas = canvas\n",
    "        self.id = canvas.create_rectangle(0, 0, 100, 10, fill = color)\n",
    "        self.x = 0\n",
    "        self.canvas.move(self.id, 200, 300)\n",
    "        self.canvas_width = self.canvas.winfo_width()\n",
    "        self.canvas.bind_all(\"<Key-Left>\", self.turn_left)\n",
    "        self.canvas.bind_all(\"<Key-Right>\", self.turn_right)\n",
    "    def draw(self):\n",
    "        pos = self.canvas.coords(self.id)\n",
    "        if (pos[0] + self.x >= 0 and pos[2] + self.x <= self.canvas_width):\n",
    "            self.canvas.move(self.id, self.x, 0)\n",
    "    def turn_left(self, event):\n",
    "        self.x = -4\n",
    "    def turn_right(self, event):\n",
    "        self.x = 4\n",
    "tk = Tk()\n",
    "tk.title(\"The Game\")\n",
    "tk.wm_attributes(\"-topmost\", 1)\n",
    "tk.resizable(0, 0)\n",
    "canvas = Canvas(tk, width = 500, height = 500, bd = 0, highlightthickness = 0)\n",
    "canvas.pack()\n",
    "tk.update()\n",
    "paddle = Paddle(canvas, 'blue')\n",
    "ball = Ball(canvas, paddle, 'red')\n",
    "while 1:\n",
    "    if (ball.hit_bottom == False):\n",
    "        ball.draw()\n",
    "        paddle.draw()\n",
    "    tk.update_idletasks()\n",
    "    tk.update()\n",
    "    time.sleep(0.01)"
   ]
  }
 ],
 "metadata": {
  "kernelspec": {
   "display_name": "Python 3",
   "language": "python",
   "name": "python3"
  },
  "language_info": {
   "codemirror_mode": {
    "name": "ipython",
    "version": 3
   },
   "file_extension": ".py",
   "mimetype": "text/x-python",
   "name": "python",
   "nbconvert_exporter": "python",
   "pygments_lexer": "ipython3",
   "version": "3.6.5"
  }
 },
 "nbformat": 4,
 "nbformat_minor": 2
}
